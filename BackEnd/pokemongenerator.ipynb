{
 "cells": [
  {
   "cell_type": "code",
   "execution_count": 1,
   "metadata": {},
   "outputs": [],
   "source": [
    "from flask import Flask\n",
    "from flask_cors import CORS, cross_origin\n",
    "import csv\n",
    "import pandas as pd\n",
    "import warnings\n",
    "import numpy as np\n",
    "import sklearn\n",
    "import os\n",
    "import sys"
   ]
  },
  {
   "cell_type": "code",
   "execution_count": 27,
   "metadata": {},
   "outputs": [
    {
     "name": "stdout",
     "output_type": "stream",
     "text": [
      "78\n"
     ]
    }
   ],
   "source": [
    "def organizePokemon():\n",
    "    df = pd.read_csv('pokemon.csv')\n",
    "    df=df.astype(str)\n",
    "    df1 = df[[\"Name\",\"Type1\"]]\n",
    "    df2 = df[[\"Name\",\"Type2\"]]\n",
    "\n",
    "    grass1 = df1[df1[\"Type1\"]=='Grass']\n",
    "    grass1 = grass1['Name'].to_numpy()\n",
    "\n",
    "    bug1 = df1[df1[\"Type1\"]=='Bug']\n",
    "    bug1 = bug1['Name'].to_numpy()\n",
    "\n",
    "    dark1 = df1[df1[\"Type1\"]=='Dark']\n",
    "    dark1 = dark1['Name'].to_numpy()\n",
    "\n",
    "    dragon1 = df1[df1[\"Type1\"]=='Dragon']\n",
    "    dragon1 = dragon1['Name'].to_numpy()\n",
    "\n",
    "    electric1 = df1[df1[\"Type1\"]=='Electric']\n",
    "    electric1 = electric1['Name'].to_numpy()\n",
    "\n",
    "    fairy1 = df1[df1[\"Type1\"]=='Fairy']\n",
    "    fairy1 = fairy1['Name'].to_numpy()\n",
    "\n",
    "    fighting1 = df1[df1[\"Type1\"]=='Fighting']\n",
    "    fighting1 = fighting1['Name'].to_numpy()\n",
    "\n",
    "    fire1 = df1[df1[\"Type1\"]=='Fire']\n",
    "    fire1 = fire1['Name'].to_numpy()\n",
    "\n",
    "    flying1 = df1[df1[\"Type1\"]=='Flying']\n",
    "    flying1 = flying1['Name'].to_numpy()\n",
    "\n",
    "    ghost1 = df1[df1[\"Type1\"]=='Ghost']\n",
    "    ghost1 = ghost1['Name'].to_numpy()\n",
    "\n",
    "    ground1 = df1[df1[\"Type1\"]=='Ground']\n",
    "    ground1 = ground1['Name'].to_numpy()\n",
    "\n",
    "    ice1 = df1[df1[\"Type1\"]=='Ice']\n",
    "    ice1 = ice1['Name'].to_numpy()\n",
    "    \n",
    "    normal1 = df1[df1[\"Type1\"]=='Normal']\n",
    "    normal1 = normal1['Name'].to_numpy()\n",
    "\n",
    "    poison1 = df1[df1[\"Type1\"]=='Poison']\n",
    "    poison1 = poison1['Name'].to_numpy()\n",
    "\n",
    "    psychic1 = df1[df1[\"Type1\"]=='Psychic']\n",
    "    psychic1 = psychic1['Name'].to_numpy()\n",
    "\n",
    "    rock1 = df1[df1[\"Type1\"]=='Rock']\n",
    "    rock1 = rock1['Name'].to_numpy()\n",
    "\n",
    "    steel1 = df1[df1[\"Type1\"]=='Steel']\n",
    "    steel1 = steel1['Name'].to_numpy()\n",
    "\n",
    "    water1 = df1[df1[\"Type1\"]=='Water']\n",
    "    water1 = water1['Name'].to_numpy()\n",
    "\n",
    "    df2 = df2[df2[\"Type2\"] != 'nan']\n",
    "    df4 = df1.to_numpy()\n",
    "    \n",
    "    df3 = pd.unique(df2['Type2'])\n",
    "    print (len(grass1))\n",
    "\n",
    "organizePokemon()"
   ]
  }
 ],
 "metadata": {
  "interpreter": {
   "hash": "60d1cc28a4b92593bd5dc5bc27ccc3190a35517554a34efe05fccaa5f4e07df9"
  },
  "kernelspec": {
   "display_name": "Python 3.10.2 64-bit (windows store)",
   "language": "python",
   "name": "python3"
  },
  "language_info": {
   "codemirror_mode": {
    "name": "ipython",
    "version": 3
   },
   "file_extension": ".py",
   "mimetype": "text/x-python",
   "name": "python",
   "nbconvert_exporter": "python",
   "pygments_lexer": "ipython3",
   "version": "3.9.7"
  },
  "orig_nbformat": 4
 },
 "nbformat": 4,
 "nbformat_minor": 2
}
